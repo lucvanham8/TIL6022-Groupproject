{
 "cells": [
  {
   "cell_type": "markdown",
   "id": "3466f4fd",
   "metadata": {},
   "source": [
    "# TIL Programming - Project Group 27\n",
    "\n",
    "Members & student numbers:\n",
    "- Oscar de Boer         (5640067)\n",
    "- Martijn Hofwegen      (5857600)\n",
    "- Floris Nieuwenhuyse   (5333032)\n",
    "- Koen Schmoutziguer    (5260760)\n",
    "- Luc van Ham           (5375614)\n",
    "\n",
    "\n",
    "## Introduction to the research question\n",
    "\n",
    "In the last few months of 2019, the COVID-19 pandemic caused the entire world to adapt. Due to the virus, meetings and lectures were hosted online, and people were not allowed to go to offices. The use of public transport and motorways dropped accordingly.\n",
    "\n",
    "This report will explore the impact of the COVID-19 pandemic on the usage of these\n",
    "modes of transport, the recovery in the years after, and a forecast of transport use\n",
    "in the future years. \n",
    "\n",
    "## Research Objective\n",
    "\n",
    "The main objective of this study is to analyze how the performance of different transport modes in the Netherlands was affected by the COVID-19 pandemic and how they have recovered since. The study aims to provide insights into:\n",
    "\n",
    "## Contribution Statement\n",
    "\n",
    "- Oscar de Boer        \n",
    "- Martijn Hofwegen     \n",
    "- Floris Nieuwenhuyse   \n",
    "- Koen Schmoutziguer    \n",
    "- Luc van Ham           \n"
   ]
  }
 ],
 "metadata": {
  "language_info": {
   "name": "python"
  }
 },
 "nbformat": 4,
 "nbformat_minor": 5
}
